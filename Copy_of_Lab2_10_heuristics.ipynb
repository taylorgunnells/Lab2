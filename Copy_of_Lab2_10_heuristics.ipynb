{
  "nbformat": 4,
  "nbformat_minor": 0,
  "metadata": {
    "colab": {
      "name": "Copy of Lab2 -10 heuristics.ipynb",
      "provenance": [],
      "collapsed_sections": [],
      "include_colab_link": true
    },
    "kernelspec": {
      "name": "python3",
      "display_name": "Python 3"
    }
  },
  "cells": [
    {
      "cell_type": "markdown",
      "metadata": {
        "id": "view-in-github",
        "colab_type": "text"
      },
      "source": [
        "<a href=\"https://colab.research.google.com/github/taylorgunnells/Lab2/blob/master/Copy_of_Lab2_10_heuristics.ipynb\" target=\"_parent\"><img src=\"https://colab.research.google.com/assets/colab-badge.svg\" alt=\"Open In Colab\"/></a>"
      ]
    },
    {
      "cell_type": "markdown",
      "metadata": {
        "id": "6JgrRYtyWUTc",
        "colab_type": "text"
      },
      "source": [
        "# Ten Usability Heuristics\n",
        "\n",
        "### Developed by Jakob Nielsen"
      ]
    },
    {
      "cell_type": "markdown",
      "metadata": {
        "id": "ep30Q_iPWdnT",
        "colab_type": "text"
      },
      "source": [
        "For our lab, we will be evaluating the ten heuristics using the following webpage: \n",
        "\n",
        "- https://www.zillow.com"
      ]
    },
    {
      "cell_type": "markdown",
      "metadata": {
        "id": "p1w1Wmt5WuFD",
        "colab_type": "text"
      },
      "source": [
        "### Visibility of system status\n",
        "The system should always keep users informed about what is going on, through appropriate feedback within reasonable time.\n",
        "\n",
        "![Zillow house listings with loading symbol highlighted](https://raw.githubusercontent.com/rachel-asd/PracticeWithWebDesign/master/Images/HeuristicsProject/visability_of_system_status.png)\n",
        "\n",
        "This website adheres to the \"Visibility of System Status\" heuristic by giving the user feedback about loading images. When one of the homes was not fully loaded after the search for certain homes, a small loading circle shows that though the image and information exists, it is not fully loaded onto the page yet. This ensures the user knows the status of the information, even if it is not yet available."
      ]
    },
    {
      "cell_type": "markdown",
      "metadata": {
        "id": "gL-x1q02W1Vk",
        "colab_type": "text"
      },
      "source": [
        "### Match between system and the real world\n",
        "The system should speak the users' language, with words, phrases and concepts familiar to the user, rather than system-oriented terms. Follow real-world conventions, making information appear in a natural and logical order.\n",
        "\n",
        "![Zillow webpage with relator information highlighted](https://raw.githubusercontent.com/rachel-asd/PracticeWithWebDesign/master/Images/HeuristicsProject/match_system_and_real_world.png)\n",
        "\n",
        "The heuristic of matching between the system and the real world is represented through the language and information used on the website. Each listing uses simple terms that are related to buying or renting a house: heating, cooling, deposits, and more. These terms are the same terms one would use if they had a in-person real estate agent who was offering up the same information. This is a clear representation of the second heuristic.\n"
      ]
    },
    {
      "cell_type": "markdown",
      "metadata": {
        "id": "p9WB5-rtZd9I",
        "colab_type": "text"
      },
      "source": [
        "### User control and freedom\n",
        "Users often choose system functions by mistake and will need a clearly marked \"emergency exit\" to leave the unwanted state without having to go through an extended dialogue. Support undo and redo.\n",
        "\n",
        "![Zillow webpage with exit x highlighted](https://raw.githubusercontent.com/rachel-asd/PracticeWithWebDesign/master/Images/HeuristicsProject/user_control_freedom_heuristic.png)\n",
        "\n",
        "This website adheres to the user control and freedom heuristic because it gives a clear exit strategy when looking at home listings. When the user clicks on an home listing, a page full of information is pulled up so they may look at it. However, it the user wants to exit that particular listing and look back over what other listings there are, they may click the grey x in the upper righthand corner, and close the listing they are looking at. The x in the righthand corner is a clear symbol people understand as a cancel or back button, and adheres to the user control and freedom heuristic."
      ]
    },
    {
      "cell_type": "markdown",
      "metadata": {
        "id": "lX7j0pZ8Zedg",
        "colab_type": "text"
      },
      "source": [
        "### Consistency and standards\n",
        "Users should not have to wonder whether different words, situations, or actions mean the same thing. Follow platform conventions.\n",
        "\n",
        "![Zillow homepage with menu bar highlighted](https://raw.githubusercontent.com/rachel-asd/PracticeWithWebDesign/master/Images/HeuristicsProject/consistency_and_standards.png)\n",
        "\n",
        "This website adheres to the fourth heuristic, as the menu bar remains consistent throughout the different pages of the website. Each of the links in the menu bar (\"Buy\", \"Rent\", etc.) stays in the same place, no matter what page of the website the viewer is on. This represents consistency and standards, the fourth website design heuristic."
      ]
    },
    {
      "cell_type": "markdown",
      "metadata": {
        "id": "ER6ArHdmZfSI",
        "colab_type": "text"
      },
      "source": [
        "### Error prevention\n",
        "Even better than good error messages is a careful design which prevents a problem from occurring in the first place. Either eliminate error-prone conditions or check for them and present users with a confirmation option before they commit to the action.\n",
        "\n",
        "![Zillow signup page with password checker highlighted](https://raw.githubusercontent.com/rachel-asd/PracticeWithWebDesign/master/Images/HeuristicsProject/error_prevention.png)\n",
        "\n",
        "Zillow is successful with a design that prevents errors from happening. For example, while creating an account for Zillow, there is a password strength checker. The password must have a certain amount of characters and numbers in order to be acceptable. There is a checklist that gauges if the viewer has done these steps and if the password is strong enough. By adding this automatic password checker, Zillow has ensured that the user will not make an error and create a weak password."
      ]
    },
    {
      "cell_type": "markdown",
      "metadata": {
        "id": "9M3cqXkLZf7B",
        "colab_type": "text"
      },
      "source": [
        "### Recognition rather than recall\n",
        "Error messages should be expressed in plain language (no codes), precisely indicate the problem, and constructively suggest a solution.\n",
        "\n",
        "![recognition](https://raw.githubusercontent.com/taylorgunnells/Lab2/master/Images/recall.png)\n",
        "\n",
        "Users can save their favorite homes and apratments by clicking on the blue \"Save Search\" button. Users with an account can refer back to their saved searches and compare prices, home types, location, and other factors that determine what house they will choose to purchase. Zillow does a very good job of letting their users refer back to their searches, allowing them to compare and make the best decisions for their future home purchase."
      ]
    },
    {
      "cell_type": "markdown",
      "metadata": {
        "id": "B4xOtXMWZgfp",
        "colab_type": "text"
      },
      "source": [
        "### Flexibility and efficiency of use \n",
        "Accelerators -- unseen by the novice user -- may often speed up the interaction for the expert user such that the system can cater to both inexperienced and experienced users. Allow users to tailor frequent actions.\n",
        "\n",
        "![accelerator](https://raw.githubusercontent.com/taylorgunnells/Lab2/master/Images/accelerator.png)\n",
        "\n",
        "This website, to my knowledge, does not include any accelerators to speed up the interaction for more expert users. This website is used mostly for searching for houses, apartments, and towns to live in. This site is similar to other shopping websites in that the user can save their favorite places to refer back to and compare with other places, but different key strokes like used in programs like Adobe Illustrator, do not work with this website. Most websites allow the user to click on their logo in the top center of the page to return to the main page. This is not the case with Zillow, and the icon does not transfer the user to the main page easily. This is not efficient for most users that know this accelerator."
      ]
    },
    {
      "cell_type": "markdown",
      "metadata": {
        "id": "vLdGi3lYk-J0",
        "colab_type": "text"
      },
      "source": [
        ""
      ]
    },
    {
      "cell_type": "markdown",
      "metadata": {
        "id": "F968s-f-ZhGA",
        "colab_type": "text"
      },
      "source": [
        "### Aesthetic and minimalist design\n",
        "Dialogues should not contain information which is irrelevant or rarely needed. Every extra unit of information in a dialogue competes with the relevant units of information and diminishes their relative visibility.\n",
        "\n",
        "![Aesthetic Image](https://raw.githubusercontent.com/taylorgunnells/Lab2/master/Images/aesthetic1.png)\n",
        "\n",
        "This image is just one of the many examples of aesthetic and minimalist design used within this website. This image shows three options for a user to click on based on what their needs are. These options show a small image and a sentence explaining what the user would like to accomplish. The designs are aesthetically pleasing and use the same color palette on each icon to create unity between the options."
      ]
    },
    {
      "cell_type": "markdown",
      "metadata": {
        "id": "WFtkqJ8wZhjx",
        "colab_type": "text"
      },
      "source": [
        "### Help users recognize, diagnose, and recover from errors\n",
        "Error messages should be expressed in plain language (no codes), precisely indicate the problem, and constructively suggest a solution.\n",
        "\n",
        "![error recovery](https://raw.githubusercontent.com/taylorgunnells/Lab2/master/Images/error.JPG)\n",
        "\n",
        "In this instance, the user entered an address that is unfamiliar to the website, and/or does not exist at all. The message has a yellow hue and a symbol that helps the user recognize that there is an error in the entry they made. This website clearly and effectively shows the mistake the user made and requests that the user double check their address. The user should then see that there is a mistake and take the necessary steps to correct the error."
      ]
    },
    {
      "cell_type": "markdown",
      "metadata": {
        "id": "x8_uAFYHZifo",
        "colab_type": "text"
      },
      "source": [
        "### Help and documentation\n",
        "Even though it is better if the system can be used without documentation, it may be necessary to provide help and documentation. Any such information should be easy to search, focused on the user's task, list concrete steps to be carried out, and not be too large.\n",
        "\n",
        "![Help and Documentation Image](https://raw.githubusercontent.com/taylorgunnells/Lab2/master/Images/help1.png)\n",
        "\n",
        "This website does help users recognize, diagnose, and recover from errors. It provides a Help tab at the top of the screen, which users select to understand the way the website system works. They can choose from many options based on what they are shopping for, who is shopping, and assistance on what technology the user is depending on to complete their task. "
      ]
    }
  ]
}